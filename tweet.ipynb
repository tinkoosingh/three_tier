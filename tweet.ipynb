{
 "cells": [
  {
   "cell_type": "code",
   "execution_count": 2,
   "metadata": {},
   "outputs": [
    {
     "name": "stdout",
     "output_type": "stream",
     "text": [
      "Collecting beautifulsoup4==4.6.0\n",
      "  Using cached beautifulsoup4-4.6.0-py3-none-any.whl (86 kB)\n",
      "Collecting bs4==0.0.1\n",
      "  Using cached bs4-0.0.1-py3-none-any.whl\n",
      "Collecting requests==2.18.4\n",
      "  Using cached requests-2.18.4-py2.py3-none-any.whl (88 kB)\n",
      "Collecting certifi>=2017.4.17 (from requests==2.18.4)\n",
      "  Obtaining dependency information for certifi>=2017.4.17 from https://files.pythonhosted.org/packages/4c/dd/2234eab22353ffc7d94e8d13177aaa050113286e93e7b40eae01fbf7c3d9/certifi-2023.7.22-py3-none-any.whl.metadata\n",
      "  Downloading certifi-2023.7.22-py3-none-any.whl.metadata (2.2 kB)\n",
      "Collecting chardet<3.1.0,>=3.0.2 (from requests==2.18.4)\n",
      "  Using cached chardet-3.0.4-py2.py3-none-any.whl (133 kB)\n",
      "Collecting idna<2.7,>=2.5 (from requests==2.18.4)\n",
      "  Using cached idna-2.6-py2.py3-none-any.whl (56 kB)\n",
      "Collecting urllib3<1.23,>=1.21.1 (from requests==2.18.4)\n",
      "  Using cached urllib3-1.22-py2.py3-none-any.whl (132 kB)\n",
      "Using cached certifi-2023.7.22-py3-none-any.whl (158 kB)\n",
      "Installing collected packages: urllib3, idna, chardet, beautifulsoup4, certifi, bs4, requests\n",
      "Successfully installed beautifulsoup4-4.6.0 bs4-0.0.1 certifi-2023.7.22 chardet-3.0.4 idna-2.6 requests-2.18.4 urllib3-1.22\n",
      "Note: you may need to restart the kernel to use updated packages.\n"
     ]
    }
   ],
   "source": [
    "pip install beautifulsoup4==4.6.0 bs4==0.0.1 requests==2.18.4\n"
   ]
  },
  {
   "cell_type": "code",
   "execution_count": 3,
   "metadata": {},
   "outputs": [
    {
     "ename": "ImportError",
     "evalue": "cannot import name 'Mapping' from 'collections' (/usr/lib/python3.10/collections/__init__.py)",
     "output_type": "error",
     "traceback": [
      "\u001b[0;31m---------------------------------------------------------------------------\u001b[0m",
      "\u001b[0;31mImportError\u001b[0m                               Traceback (most recent call last)",
      "Cell \u001b[0;32mIn[3], line 2\u001b[0m\n\u001b[1;32m      1\u001b[0m \u001b[39mfrom\u001b[39;00m \u001b[39mbs4\u001b[39;00m \u001b[39mimport\u001b[39;00m BeautifulSoup\n\u001b[0;32m----> 2\u001b[0m \u001b[39mimport\u001b[39;00m \u001b[39mrequests\u001b[39;00m\n\u001b[1;32m      3\u001b[0m \u001b[39mimport\u001b[39;00m \u001b[39mre\u001b[39;00m\n\u001b[1;32m      5\u001b[0m response \u001b[39m=\u001b[39m requests\u001b[39m.\u001b[39mget(\u001b[39m'\u001b[39m\u001b[39mhttps://www.flipkart.com/search?q=shoes&otracker=search&otracker1=search&marketplace=FLIPKART&as-show=on&as=off&page=1\u001b[39m\u001b[39m'\u001b[39m)\n",
      "File \u001b[0;32m~/Documents/tiar_application/.venv/lib/python3.10/site-packages/requests/__init__.py:43\u001b[0m\n\u001b[1;32m      1\u001b[0m \u001b[39m# -*- coding: utf-8 -*-\u001b[39;00m\n\u001b[1;32m      2\u001b[0m \n\u001b[1;32m      3\u001b[0m \u001b[39m#   __\u001b[39;00m\n\u001b[1;32m      4\u001b[0m \u001b[39m#  /__)  _  _     _   _ _/   _\u001b[39;00m\n\u001b[1;32m      5\u001b[0m \u001b[39m# / (   (- (/ (/ (- _)  /  _)\u001b[39;00m\n\u001b[1;32m      6\u001b[0m \u001b[39m#          /\u001b[39;00m\n\u001b[1;32m      8\u001b[0m \u001b[39m\"\"\"\u001b[39;00m\n\u001b[1;32m      9\u001b[0m \u001b[39mRequests HTTP Library\u001b[39;00m\n\u001b[1;32m     10\u001b[0m \u001b[39m~~~~~~~~~~~~~~~~~~~~~\u001b[39;00m\n\u001b[0;32m   (...)\u001b[0m\n\u001b[1;32m     40\u001b[0m \u001b[39m:license: Apache 2.0, see LICENSE for more details.\u001b[39;00m\n\u001b[1;32m     41\u001b[0m \u001b[39m\"\"\"\u001b[39;00m\n\u001b[0;32m---> 43\u001b[0m \u001b[39mimport\u001b[39;00m \u001b[39murllib3\u001b[39;00m\n\u001b[1;32m     44\u001b[0m \u001b[39mimport\u001b[39;00m \u001b[39mchardet\u001b[39;00m\n\u001b[1;32m     45\u001b[0m \u001b[39mimport\u001b[39;00m \u001b[39mwarnings\u001b[39;00m\n",
      "File \u001b[0;32m~/Documents/tiar_application/.venv/lib/python3.10/site-packages/urllib3/__init__.py:8\u001b[0m\n\u001b[1;32m      5\u001b[0m \u001b[39mfrom\u001b[39;00m \u001b[39m__future__\u001b[39;00m \u001b[39mimport\u001b[39;00m absolute_import\n\u001b[1;32m      6\u001b[0m \u001b[39mimport\u001b[39;00m \u001b[39mwarnings\u001b[39;00m\n\u001b[0;32m----> 8\u001b[0m \u001b[39mfrom\u001b[39;00m \u001b[39m.\u001b[39;00m\u001b[39mconnectionpool\u001b[39;00m \u001b[39mimport\u001b[39;00m (\n\u001b[1;32m      9\u001b[0m     HTTPConnectionPool,\n\u001b[1;32m     10\u001b[0m     HTTPSConnectionPool,\n\u001b[1;32m     11\u001b[0m     connection_from_url\n\u001b[1;32m     12\u001b[0m )\n\u001b[1;32m     14\u001b[0m \u001b[39mfrom\u001b[39;00m \u001b[39m.\u001b[39;00m \u001b[39mimport\u001b[39;00m exceptions\n\u001b[1;32m     15\u001b[0m \u001b[39mfrom\u001b[39;00m \u001b[39m.\u001b[39;00m\u001b[39mfilepost\u001b[39;00m \u001b[39mimport\u001b[39;00m encode_multipart_formdata\n",
      "File \u001b[0;32m~/Documents/tiar_application/.venv/lib/python3.10/site-packages/urllib3/connectionpool.py:29\u001b[0m\n\u001b[1;32m     27\u001b[0m \u001b[39mfrom\u001b[39;00m \u001b[39m.\u001b[39;00m\u001b[39mpackages\u001b[39;00m \u001b[39mimport\u001b[39;00m six\n\u001b[1;32m     28\u001b[0m \u001b[39mfrom\u001b[39;00m \u001b[39m.\u001b[39;00m\u001b[39mpackages\u001b[39;00m\u001b[39m.\u001b[39;00m\u001b[39msix\u001b[39;00m\u001b[39m.\u001b[39;00m\u001b[39mmoves\u001b[39;00m \u001b[39mimport\u001b[39;00m queue\n\u001b[0;32m---> 29\u001b[0m \u001b[39mfrom\u001b[39;00m \u001b[39m.\u001b[39;00m\u001b[39mconnection\u001b[39;00m \u001b[39mimport\u001b[39;00m (\n\u001b[1;32m     30\u001b[0m     port_by_scheme,\n\u001b[1;32m     31\u001b[0m     DummyConnection,\n\u001b[1;32m     32\u001b[0m     HTTPConnection, HTTPSConnection, VerifiedHTTPSConnection,\n\u001b[1;32m     33\u001b[0m     HTTPException, BaseSSLError,\n\u001b[1;32m     34\u001b[0m )\n\u001b[1;32m     35\u001b[0m \u001b[39mfrom\u001b[39;00m \u001b[39m.\u001b[39;00m\u001b[39mrequest\u001b[39;00m \u001b[39mimport\u001b[39;00m RequestMethods\n\u001b[1;32m     36\u001b[0m \u001b[39mfrom\u001b[39;00m \u001b[39m.\u001b[39;00m\u001b[39mresponse\u001b[39;00m \u001b[39mimport\u001b[39;00m HTTPResponse\n",
      "File \u001b[0;32m~/Documents/tiar_application/.venv/lib/python3.10/site-packages/urllib3/connection.py:39\u001b[0m\n\u001b[1;32m     31\u001b[0m \u001b[39mfrom\u001b[39;00m \u001b[39m.\u001b[39;00m\u001b[39mexceptions\u001b[39;00m \u001b[39mimport\u001b[39;00m (\n\u001b[1;32m     32\u001b[0m     NewConnectionError,\n\u001b[1;32m     33\u001b[0m     ConnectTimeoutError,\n\u001b[1;32m     34\u001b[0m     SubjectAltNameWarning,\n\u001b[1;32m     35\u001b[0m     SystemTimeWarning,\n\u001b[1;32m     36\u001b[0m )\n\u001b[1;32m     37\u001b[0m \u001b[39mfrom\u001b[39;00m \u001b[39m.\u001b[39;00m\u001b[39mpackages\u001b[39;00m\u001b[39m.\u001b[39;00m\u001b[39mssl_match_hostname\u001b[39;00m \u001b[39mimport\u001b[39;00m match_hostname, CertificateError\n\u001b[0;32m---> 39\u001b[0m \u001b[39mfrom\u001b[39;00m \u001b[39m.\u001b[39;00m\u001b[39mutil\u001b[39;00m\u001b[39m.\u001b[39;00m\u001b[39mssl_\u001b[39;00m \u001b[39mimport\u001b[39;00m (\n\u001b[1;32m     40\u001b[0m     resolve_cert_reqs,\n\u001b[1;32m     41\u001b[0m     resolve_ssl_version,\n\u001b[1;32m     42\u001b[0m     assert_fingerprint,\n\u001b[1;32m     43\u001b[0m     create_urllib3_context,\n\u001b[1;32m     44\u001b[0m     ssl_wrap_socket\n\u001b[1;32m     45\u001b[0m )\n\u001b[1;32m     48\u001b[0m \u001b[39mfrom\u001b[39;00m \u001b[39m.\u001b[39;00m\u001b[39mutil\u001b[39;00m \u001b[39mimport\u001b[39;00m connection\n\u001b[1;32m     50\u001b[0m \u001b[39mfrom\u001b[39;00m \u001b[39m.\u001b[39;00m\u001b[39m_collections\u001b[39;00m \u001b[39mimport\u001b[39;00m HTTPHeaderDict\n",
      "File \u001b[0;32m~/Documents/tiar_application/.venv/lib/python3.10/site-packages/urllib3/util/__init__.py:3\u001b[0m\n\u001b[1;32m      1\u001b[0m \u001b[39mfrom\u001b[39;00m \u001b[39m__future__\u001b[39;00m \u001b[39mimport\u001b[39;00m absolute_import\n\u001b[1;32m      2\u001b[0m \u001b[39m# For backwards compatibility, provide imports that used to be here.\u001b[39;00m\n\u001b[0;32m----> 3\u001b[0m \u001b[39mfrom\u001b[39;00m \u001b[39m.\u001b[39;00m\u001b[39mconnection\u001b[39;00m \u001b[39mimport\u001b[39;00m is_connection_dropped\n\u001b[1;32m      4\u001b[0m \u001b[39mfrom\u001b[39;00m \u001b[39m.\u001b[39;00m\u001b[39mrequest\u001b[39;00m \u001b[39mimport\u001b[39;00m make_headers\n\u001b[1;32m      5\u001b[0m \u001b[39mfrom\u001b[39;00m \u001b[39m.\u001b[39;00m\u001b[39mresponse\u001b[39;00m \u001b[39mimport\u001b[39;00m is_fp_closed\n",
      "File \u001b[0;32m~/Documents/tiar_application/.venv/lib/python3.10/site-packages/urllib3/util/connection.py:3\u001b[0m\n\u001b[1;32m      1\u001b[0m \u001b[39mfrom\u001b[39;00m \u001b[39m__future__\u001b[39;00m \u001b[39mimport\u001b[39;00m absolute_import\n\u001b[1;32m      2\u001b[0m \u001b[39mimport\u001b[39;00m \u001b[39msocket\u001b[39;00m\n\u001b[0;32m----> 3\u001b[0m \u001b[39mfrom\u001b[39;00m \u001b[39m.\u001b[39;00m\u001b[39mwait\u001b[39;00m \u001b[39mimport\u001b[39;00m wait_for_read\n\u001b[1;32m      4\u001b[0m \u001b[39mfrom\u001b[39;00m \u001b[39m.\u001b[39;00m\u001b[39mselectors\u001b[39;00m \u001b[39mimport\u001b[39;00m HAS_SELECT, SelectorError\n\u001b[1;32m      7\u001b[0m \u001b[39mdef\u001b[39;00m \u001b[39mis_connection_dropped\u001b[39m(conn):  \u001b[39m# Platform-specific\u001b[39;00m\n",
      "File \u001b[0;32m~/Documents/tiar_application/.venv/lib/python3.10/site-packages/urllib3/util/wait.py:1\u001b[0m\n\u001b[0;32m----> 1\u001b[0m \u001b[39mfrom\u001b[39;00m \u001b[39m.\u001b[39;00m\u001b[39mselectors\u001b[39;00m \u001b[39mimport\u001b[39;00m (\n\u001b[1;32m      2\u001b[0m     HAS_SELECT,\n\u001b[1;32m      3\u001b[0m     DefaultSelector,\n\u001b[1;32m      4\u001b[0m     EVENT_READ,\n\u001b[1;32m      5\u001b[0m     EVENT_WRITE\n\u001b[1;32m      6\u001b[0m )\n\u001b[1;32m      9\u001b[0m \u001b[39mdef\u001b[39;00m \u001b[39m_wait_for_io_events\u001b[39m(socks, events, timeout\u001b[39m=\u001b[39m\u001b[39mNone\u001b[39;00m):\n\u001b[1;32m     10\u001b[0m \u001b[39m    \u001b[39m\u001b[39m\"\"\" Waits for IO events to be available from a list of sockets\u001b[39;00m\n\u001b[1;32m     11\u001b[0m \u001b[39m    or optionally a single socket if passed in. Returns a list of\u001b[39;00m\n\u001b[1;32m     12\u001b[0m \u001b[39m    sockets that can be interacted with immediately. \"\"\"\u001b[39;00m\n",
      "File \u001b[0;32m~/Documents/tiar_application/.venv/lib/python3.10/site-packages/urllib3/util/selectors.py:14\u001b[0m\n\u001b[1;32m     12\u001b[0m \u001b[39mimport\u001b[39;00m \u001b[39msys\u001b[39;00m\n\u001b[1;32m     13\u001b[0m \u001b[39mimport\u001b[39;00m \u001b[39mtime\u001b[39;00m\n\u001b[0;32m---> 14\u001b[0m \u001b[39mfrom\u001b[39;00m \u001b[39mcollections\u001b[39;00m \u001b[39mimport\u001b[39;00m namedtuple, Mapping\n\u001b[1;32m     16\u001b[0m \u001b[39mtry\u001b[39;00m:\n\u001b[1;32m     17\u001b[0m     monotonic \u001b[39m=\u001b[39m time\u001b[39m.\u001b[39mmonotonic\n",
      "\u001b[0;31mImportError\u001b[0m: cannot import name 'Mapping' from 'collections' (/usr/lib/python3.10/collections/__init__.py)"
     ]
    }
   ],
   "source": [
    "from bs4 import BeautifulSoup\n",
    "import requests\n",
    "import re\n",
    "\n",
    "response = requests.get('https://www.flipkart.com/search?q=shoes&otracker=search&otracker1=search&marketplace=FLIPKART&as-show=on&as=off&page=1')\n",
    "soup = BeautifulSoup(response.content,'html.parser')\n",
    "soup.prettify()"
   ]
  },
  {
   "cell_type": "code",
   "execution_count": 30,
   "metadata": {},
   "outputs": [],
   "source": [
    "data = soup.find_all('div',{\"class\":\"_1xHGtK _373qXS\"})"
   ]
  },
  {
   "cell_type": "code",
   "execution_count": 28,
   "metadata": {},
   "outputs": [
    {
     "name": "stdout",
     "output_type": "stream",
     "text": [
      "SponsoredaadiMesh |Lightweight|Comfort|Summer|Trendy|Walking|Outdoor...₹392₹99960% offFree delivery\n",
      "SponsoredAirsonSports shoes for men|Stylish Casual sport shoes for men...₹469₹1,09957% offFree deliveryHot Deal\n",
      "SparxSM-678 Running Shoes For Men₹1,079₹1,79940% offFree delivery by TodayHot Deal\n",
      "BataDerby For Men₹731₹1,19939% offFree delivery by TodayHot Deal\n",
      "aadiSynthetic Leather For Men₹399₹1,99980% offFree delivery by TodayHot Deal\n",
      "BIRDECombo Pack of 2 Sports Shoes Running Shoes For Men₹479₹99852% offFree delivery by TodayHot Deal\n",
      "LR Comfort ChoiceWomen Jutti ||Women Outdoor Shoes||Walking Jutti Shoes ...₹349₹79956% off\n",
      "SponsoredATOMSneakers For Men₹1,199₹3,29563% offFree deliveryLowest price since launch\n",
      "SparxMen White Sneakers Sneakers For Men₹539₹89940% offFree delivery by TodayHot Deal\n",
      "PUMAUP Sneakers For Men₹3,199₹3,99920% offFree delivery by Today\n",
      "SponsoredRapidBoxSneakers For Men₹699₹99930% offFree deliveryDaily Saver\n",
      "SponsoredRapidBoxHigh Tops For Men₹549₹99945% offFree deliveryHot Deal\n",
      "CAMPUSMIKE (N) Running Shoes For Men₹999₹1,69941% offFree delivery by TodayDaily Saver\n",
      "WAANCasual Premium Ankle Length Black Denim Boots Canvas Sh...₹399₹2,49984% offFree delivery by TodayHot Deal\n",
      "NobeliteSneakers For Men₹299₹99870% offFree delivery by TodayHot Deal\n",
      "NobeliteSneakers For Men₹299₹99870% offFree deliveryHot Deal\n",
      "SponsoredJQRRTGS HYPERBOUNZE tech lace-up lightweight, breathable, ...₹1,119₹1,59930% offFree deliveryHot Deal\n",
      "SponsoredATOMGansta1 Sneakers For Men₹1,199₹2,89558% offFree deliveryDaily Saver\n",
      "VikamiSports, casual, walking , running shoes for men Running...₹699₹2,49972% offFree delivery\n",
      "aadiSynthetic Leather |Lightweight|Comfort|Summer|Trendy|Wa...₹429₹1,99978% offFree delivery by TodayHot Deal\n",
      "SponsoredATOMSneakers For Men₹1,199₹3,29563% offFree deliveryLowest price since launch\n",
      "SponsoredaadiSynthetic| Lightweight| Premiun| Comfort| Summer Tendy|...₹399₹1,99980% offFree deliveryLowest price since launch\n",
      "HRX by Hrithik RoshanVELOCITY Running Shoes For Men₹1,047₹3,49970% offFree delivery by TodayDaily Saver\n",
      "asianCute sports shoes for women | Running shoes for girls s...₹499₹79937% offFree delivery by Today\n",
      "WAANWalking Shoes For Men₹399₹1,99980% offFree delivery by TodayHot Deal\n",
      "aadiSynthetic| Lightweight| Premiun| Comfort| Summer Tendy|...₹399₹1,99980% offFree delivery by TodayLowest price since launch\n",
      "SponsoredaadiSynthetic Leather |Lightweight|Comfort|Summer|Trendy|Wa...₹642₹99935% offFree delivery\n",
      "SponsoredRapidBoxSneakers For Men₹549₹99945% offFree deliveryDaily Saver\n",
      "PUMAHustle V2 Running Shoes For Men₹1,299₹3,99967% offFree delivery by TodayHot Deal\n",
      "CAMPUSCRYSTA PRO Training & Gym Shoes For Men₹771₹1,29940% offFree delivery by Today\n",
      "SponsoredJQRSupperjoyo Sports shoes, Running, Walking, Lightweight,...₹1,119₹1,59930% offFree deliveryHot Deal\n",
      "SponsoredTRRunning / Walking / Multicolor Shoes / Sport Shoes For ...₹479₹1,99976% offFree deliveryDaily Saver\n",
      "WAANLight weighted Sport shoes, Running Shoes, Training sho...₹399₹2,07980% offFree delivery by TodayHot Deal\n",
      "CAMPUSHURRICANE Running Shoes For Men₹849₹1,39939% offFree delivery by Today\n",
      "OnivixoMen Synthetic Leather Office Formal Shoes Premium Quali...₹1,401₹2,99953% offFree delivery\n",
      "AJANTACasual Loafers For Men₹279₹69960% offFree delivery by Today\n",
      "SponsoredaadiMesh |Lightweight|Comfort|Summer|Trendy|Walking|Outdoor...₹268₹99973% offFree deliveryDaily Saver\n",
      "Sponsoredasianasian Thunder-01 White Color Change Sneakers,Casuals,Lo...₹940₹1,69944% offFree delivery\n",
      "asianThar-01 Blue Sneakers,Sports,Training,Gym,Walking,Styli...₹728₹1,24941% offFree delivery by Today\n",
      "CAMPUSMIKE (N) Running Shoes For Men₹999₹1,69941% offFree delivery by TodayHot Deal\n",
      "40\n"
     ]
    }
   ],
   "source": [
    "count = 0\n",
    "for i in  data:\n",
    "    count = count+1\n",
    "    print(i.get_text())\n",
    "print(count)"
   ]
  },
  {
   "cell_type": "code",
   "execution_count": null,
   "metadata": {},
   "outputs": [],
   "source": []
  }
 ],
 "metadata": {
  "kernelspec": {
   "display_name": "Python 3",
   "language": "python",
   "name": "python3"
  },
  "language_info": {
   "codemirror_mode": {
    "name": "ipython",
    "version": 3
   },
   "file_extension": ".py",
   "mimetype": "text/x-python",
   "name": "python",
   "nbconvert_exporter": "python",
   "pygments_lexer": "ipython3",
   "version": "3.10.12"
  },
  "orig_nbformat": 4
 },
 "nbformat": 4,
 "nbformat_minor": 2
}
